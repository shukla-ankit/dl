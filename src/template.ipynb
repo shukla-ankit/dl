{
  "nbformat": 4,
  "nbformat_minor": 0,
  "metadata": {
    "colab": {
      "provenance": [],
      "authorship_tag": "ABX9TyP0Y13UcU1k9+0URAtTXeUO",
      "include_colab_link": true
    },
    "kernelspec": {
      "name": "python3",
      "display_name": "Python 3"
    },
    "language_info": {
      "name": "python"
    }
  },
  "cells": [
    {
      "cell_type": "markdown",
      "metadata": {
        "id": "view-in-github",
        "colab_type": "text"
      },
      "source": [
        "<a href=\"https://colab.research.google.com/github/shukla-ankit/dl/blob/main/src/template.ipynb\" target=\"_parent\"><img src=\"https://colab.research.google.com/assets/colab-badge.svg\" alt=\"Open In Colab\"/></a>"
      ]
    },
    {
      "cell_type": "markdown",
      "source": [],
      "metadata": {
        "id": "5_JVvSiLwfmF"
      }
    },
    {
      "cell_type": "markdown",
      "source": [
        "For use as test templates for understanding and  implementing AI papers"
      ],
      "metadata": {
        "id": "Y5vhSjiowhWF"
      }
    },
    {
      "cell_type": "code",
      "source": [
        "print(\"Hello, how you doing? :)\")"
      ],
      "metadata": {
        "colab": {
          "base_uri": "https://localhost:8080/"
        },
        "id": "L44AyO13wrLa",
        "outputId": "071a50e8-b903-4915-a249-8d51a35cc1b4"
      },
      "execution_count": 1,
      "outputs": [
        {
          "output_type": "stream",
          "name": "stdout",
          "text": [
            "Hello, how you doing? :)\n"
          ]
        }
      ]
    },
    {
      "cell_type": "code",
      "source": [],
      "metadata": {
        "id": "Ccsbd7C2wxrL"
      },
      "execution_count": 1,
      "outputs": []
    }
  ]
}